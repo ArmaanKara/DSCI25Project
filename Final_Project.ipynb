{
 "cells": [
  {
   "cell_type": "markdown",
   "metadata": {},
   "source": [
    "Final Project Notebook"
   ]
  },
  {
   "cell_type": "code",
   "execution_count": 2,
   "metadata": {},
   "outputs": [
    {
     "name": "stderr",
     "output_type": "stream",
     "text": [
      "── \u001b[1mAttaching packages\u001b[22m ─────────────────────────────────────── tidyverse 1.3.0 ──\n",
      "\n",
      "\u001b[32m✔\u001b[39m \u001b[34mggplot2\u001b[39m 3.3.2     \u001b[32m✔\u001b[39m \u001b[34mpurrr  \u001b[39m 0.3.4\n",
      "\u001b[32m✔\u001b[39m \u001b[34mtibble \u001b[39m 3.0.3     \u001b[32m✔\u001b[39m \u001b[34mdplyr  \u001b[39m 1.0.2\n",
      "\u001b[32m✔\u001b[39m \u001b[34mtidyr  \u001b[39m 1.1.2     \u001b[32m✔\u001b[39m \u001b[34mstringr\u001b[39m 1.4.0\n",
      "\u001b[32m✔\u001b[39m \u001b[34mreadr  \u001b[39m 1.3.1     \u001b[32m✔\u001b[39m \u001b[34mforcats\u001b[39m 0.5.0\n",
      "\n",
      "Warning message:\n",
      "“package ‘ggplot2’ was built under R version 4.0.1”\n",
      "Warning message:\n",
      "“package ‘tibble’ was built under R version 4.0.2”\n",
      "Warning message:\n",
      "“package ‘tidyr’ was built under R version 4.0.2”\n",
      "Warning message:\n",
      "“package ‘dplyr’ was built under R version 4.0.2”\n",
      "── \u001b[1mConflicts\u001b[22m ────────────────────────────────────────── tidyverse_conflicts() ──\n",
      "\u001b[31m✖\u001b[39m \u001b[34mdplyr\u001b[39m::\u001b[32mfilter()\u001b[39m masks \u001b[34mstats\u001b[39m::filter()\n",
      "\u001b[31m✖\u001b[39m \u001b[34mdplyr\u001b[39m::\u001b[32mlag()\u001b[39m    masks \u001b[34mstats\u001b[39m::lag()\n",
      "\n",
      "Warning message:\n",
      "“package ‘tidymodels’ was built under R version 4.0.2”\n",
      "── \u001b[1mAttaching packages\u001b[22m ────────────────────────────────────── tidymodels 0.1.1 ──\n",
      "\n",
      "\u001b[32m✔\u001b[39m \u001b[34mbroom    \u001b[39m 0.7.0      \u001b[32m✔\u001b[39m \u001b[34mrecipes  \u001b[39m 0.1.13\n",
      "\u001b[32m✔\u001b[39m \u001b[34mdials    \u001b[39m 0.0.9      \u001b[32m✔\u001b[39m \u001b[34mrsample  \u001b[39m 0.0.7 \n",
      "\u001b[32m✔\u001b[39m \u001b[34minfer    \u001b[39m 0.5.4      \u001b[32m✔\u001b[39m \u001b[34mtune     \u001b[39m 0.1.1 \n",
      "\u001b[32m✔\u001b[39m \u001b[34mmodeldata\u001b[39m 0.0.2      \u001b[32m✔\u001b[39m \u001b[34mworkflows\u001b[39m 0.2.0 \n",
      "\u001b[32m✔\u001b[39m \u001b[34mparsnip  \u001b[39m 0.1.3      \u001b[32m✔\u001b[39m \u001b[34myardstick\u001b[39m 0.0.7 \n",
      "\n",
      "Warning message:\n",
      "“package ‘broom’ was built under R version 4.0.2”\n",
      "Warning message:\n",
      "“package ‘dials’ was built under R version 4.0.2”\n",
      "Warning message:\n",
      "“package ‘infer’ was built under R version 4.0.3”\n",
      "Warning message:\n",
      "“package ‘modeldata’ was built under R version 4.0.1”\n",
      "Warning message:\n",
      "“package ‘parsnip’ was built under R version 4.0.2”\n",
      "Warning message:\n",
      "“package ‘recipes’ was built under R version 4.0.1”\n",
      "Warning message:\n",
      "“package ‘tune’ was built under R version 4.0.2”\n",
      "Warning message:\n",
      "“package ‘workflows’ was built under R version 4.0.2”\n",
      "Warning message:\n",
      "“package ‘yardstick’ was built under R version 4.0.2”\n",
      "── \u001b[1mConflicts\u001b[22m ───────────────────────────────────────── tidymodels_conflicts() ──\n",
      "\u001b[31m✖\u001b[39m \u001b[34mscales\u001b[39m::\u001b[32mdiscard()\u001b[39m masks \u001b[34mpurrr\u001b[39m::discard()\n",
      "\u001b[31m✖\u001b[39m \u001b[34mdplyr\u001b[39m::\u001b[32mfilter()\u001b[39m   masks \u001b[34mstats\u001b[39m::filter()\n",
      "\u001b[31m✖\u001b[39m \u001b[34mrecipes\u001b[39m::\u001b[32mfixed()\u001b[39m  masks \u001b[34mstringr\u001b[39m::fixed()\n",
      "\u001b[31m✖\u001b[39m \u001b[34mdplyr\u001b[39m::\u001b[32mlag()\u001b[39m      masks \u001b[34mstats\u001b[39m::lag()\n",
      "\u001b[31m✖\u001b[39m \u001b[34myardstick\u001b[39m::\u001b[32mspec()\u001b[39m masks \u001b[34mreadr\u001b[39m::spec()\n",
      "\u001b[31m✖\u001b[39m \u001b[34mrecipes\u001b[39m::\u001b[32mstep()\u001b[39m   masks \u001b[34mstats\u001b[39m::step()\n",
      "\n"
     ]
    }
   ],
   "source": [
    "# SETUP CODE\n",
    "library(repr)\n",
    "library(tidyverse)\n",
    "library(tidymodels)\n",
    "options(repr.matrix.max.rows = 10)"
   ]
  },
  {
   "cell_type": "code",
   "execution_count": 93,
   "metadata": {},
   "outputs": [
    {
     "data": {
      "text/html": [
       "<table>\n",
       "<caption>A tibble: 38245 × 8</caption>\n",
       "<thead>\n",
       "\t<tr><th scope=col>age</th><th scope=col>job</th><th scope=col>marital</th><th scope=col>education</th><th scope=col>housing</th><th scope=col>loan</th><th scope=col>campaign</th><th scope=col>y</th></tr>\n",
       "\t<tr><th scope=col>&lt;dbl&gt;</th><th scope=col>&lt;dbl&gt;</th><th scope=col>&lt;dbl&gt;</th><th scope=col>&lt;dbl&gt;</th><th scope=col>&lt;dbl&gt;</th><th scope=col>&lt;dbl&gt;</th><th scope=col>&lt;int&gt;</th><th scope=col>&lt;fct&gt;</th></tr>\n",
       "</thead>\n",
       "<tbody>\n",
       "\t<tr><td>56</td><td>4</td><td>2</td><td>1</td><td>1</td><td>1</td><td>1</td><td>no</td></tr>\n",
       "\t<tr><td>57</td><td>8</td><td>2</td><td>4</td><td>1</td><td>1</td><td>1</td><td>no</td></tr>\n",
       "\t<tr><td>37</td><td>8</td><td>2</td><td>4</td><td>2</td><td>1</td><td>1</td><td>no</td></tr>\n",
       "\t<tr><td>40</td><td>1</td><td>2</td><td>2</td><td>1</td><td>1</td><td>1</td><td>no</td></tr>\n",
       "\t<tr><td>56</td><td>8</td><td>2</td><td>4</td><td>1</td><td>2</td><td>1</td><td>no</td></tr>\n",
       "\t<tr><td>⋮</td><td>⋮</td><td>⋮</td><td>⋮</td><td>⋮</td><td>⋮</td><td>⋮</td><td>⋮</td></tr>\n",
       "\t<tr><td>73</td><td> 6</td><td>2</td><td>6</td><td>2</td><td>1</td><td>1</td><td>yes</td></tr>\n",
       "\t<tr><td>46</td><td> 2</td><td>2</td><td>6</td><td>1</td><td>1</td><td>1</td><td>no </td></tr>\n",
       "\t<tr><td>56</td><td> 6</td><td>2</td><td>7</td><td>2</td><td>1</td><td>2</td><td>no </td></tr>\n",
       "\t<tr><td>44</td><td>10</td><td>2</td><td>6</td><td>1</td><td>1</td><td>1</td><td>yes</td></tr>\n",
       "\t<tr><td>74</td><td> 6</td><td>2</td><td>6</td><td>2</td><td>1</td><td>3</td><td>no </td></tr>\n",
       "</tbody>\n",
       "</table>\n"
      ],
      "text/latex": [
       "A tibble: 38245 × 8\n",
       "\\begin{tabular}{llllllll}\n",
       " age & job & marital & education & housing & loan & campaign & y\\\\\n",
       " <dbl> & <dbl> & <dbl> & <dbl> & <dbl> & <dbl> & <int> & <fct>\\\\\n",
       "\\hline\n",
       "\t 56 & 4 & 2 & 1 & 1 & 1 & 1 & no\\\\\n",
       "\t 57 & 8 & 2 & 4 & 1 & 1 & 1 & no\\\\\n",
       "\t 37 & 8 & 2 & 4 & 2 & 1 & 1 & no\\\\\n",
       "\t 40 & 1 & 2 & 2 & 1 & 1 & 1 & no\\\\\n",
       "\t 56 & 8 & 2 & 4 & 1 & 2 & 1 & no\\\\\n",
       "\t ⋮ & ⋮ & ⋮ & ⋮ & ⋮ & ⋮ & ⋮ & ⋮\\\\\n",
       "\t 73 &  6 & 2 & 6 & 2 & 1 & 1 & yes\\\\\n",
       "\t 46 &  2 & 2 & 6 & 1 & 1 & 1 & no \\\\\n",
       "\t 56 &  6 & 2 & 7 & 2 & 1 & 2 & no \\\\\n",
       "\t 44 & 10 & 2 & 6 & 1 & 1 & 1 & yes\\\\\n",
       "\t 74 &  6 & 2 & 6 & 2 & 1 & 3 & no \\\\\n",
       "\\end{tabular}\n"
      ],
      "text/markdown": [
       "\n",
       "A tibble: 38245 × 8\n",
       "\n",
       "| age &lt;dbl&gt; | job &lt;dbl&gt; | marital &lt;dbl&gt; | education &lt;dbl&gt; | housing &lt;dbl&gt; | loan &lt;dbl&gt; | campaign &lt;int&gt; | y &lt;fct&gt; |\n",
       "|---|---|---|---|---|---|---|---|\n",
       "| 56 | 4 | 2 | 1 | 1 | 1 | 1 | no |\n",
       "| 57 | 8 | 2 | 4 | 1 | 1 | 1 | no |\n",
       "| 37 | 8 | 2 | 4 | 2 | 1 | 1 | no |\n",
       "| 40 | 1 | 2 | 2 | 1 | 1 | 1 | no |\n",
       "| 56 | 8 | 2 | 4 | 1 | 2 | 1 | no |\n",
       "| ⋮ | ⋮ | ⋮ | ⋮ | ⋮ | ⋮ | ⋮ | ⋮ |\n",
       "| 73 |  6 | 2 | 6 | 2 | 1 | 1 | yes |\n",
       "| 46 |  2 | 2 | 6 | 1 | 1 | 1 | no  |\n",
       "| 56 |  6 | 2 | 7 | 2 | 1 | 2 | no  |\n",
       "| 44 | 10 | 2 | 6 | 1 | 1 | 1 | yes |\n",
       "| 74 |  6 | 2 | 6 | 2 | 1 | 3 | no  |\n",
       "\n"
      ],
      "text/plain": [
       "      age job marital education housing loan campaign y  \n",
       "1     56  4   2       1         1       1    1        no \n",
       "2     57  8   2       4         1       1    1        no \n",
       "3     37  8   2       4         2       1    1        no \n",
       "4     40  1   2       2         1       1    1        no \n",
       "5     56  8   2       4         1       2    1        no \n",
       "⋮     ⋮   ⋮   ⋮       ⋮         ⋮       ⋮    ⋮        ⋮  \n",
       "38241 73   6  2       6         2       1    1        yes\n",
       "38242 46   2  2       6         1       1    1        no \n",
       "38243 56   6  2       7         2       1    2        no \n",
       "38244 44  10  2       6         1       1    1        yes\n",
       "38245 74   6  2       6         2       1    3        no "
      ]
     },
     "metadata": {},
     "output_type": "display_data"
    }
   ],
   "source": [
    "# Retrieving and preparing the dataset for classification\n",
    "\n",
    "# Set the seed\n",
    "set.seed(7134) \n",
    "\n",
    "# Read the dataset and discard the unnecessary columns\n",
    "temp <- tempfile()\n",
    "download.file(\"https://archive.ics.uci.edu/ml/machine-learning-databases/00222/bank-additional.zip\",temp)\n",
    "bank_data <- read.table(unz(temp, \"bank-additional/bank-additional-full.csv\"), sep=\";\", header=TRUE) %>%\n",
    "    select(age, job, marital, education, housing, loan, campaign, y)\n",
    "unlink(temp)\n",
    "bank_data <- as_tibble(bank_data)\n",
    "\n",
    "# Filter out rows with unknown data\n",
    "bank_data_filtered <- bank_data %>%\n",
    "    filter(job != \"unknown\",\n",
    "           marital != \"unknown\",\n",
    "           education != \"unknown\",\n",
    "           housing != \"unknown\",\n",
    "           loan != \"unknown\")\n",
    "             \n",
    "# Convert all string columns to integers (needed for classification)\n",
    "bank_data_nums <- bank_data_filtered %>%\n",
    "    mutate(\n",
    "        age = as.double(age),\n",
    "        job = as.double(unclass(factor(job))), \n",
    "        marital = as.double(unclass(factor(marital))), \n",
    "        education = as.double(unclass(factor(education))), \n",
    "        housing = as.double(unclass(factor(housing))),\n",
    "        loan = as.double(unclass(factor(loan))),\n",
    "        y = factor(y)\n",
    "    )\n",
    "bank_data_nums"
   ]
  },
  {
   "cell_type": "code",
   "execution_count": 94,
   "metadata": {},
   "outputs": [
    {
     "data": {
      "text/html": [
       "<table>\n",
       "<caption>A tibble: 9560 × 8</caption>\n",
       "<thead>\n",
       "\t<tr><th scope=col>age</th><th scope=col>job</th><th scope=col>marital</th><th scope=col>education</th><th scope=col>housing</th><th scope=col>loan</th><th scope=col>campaign</th><th scope=col>y</th></tr>\n",
       "\t<tr><th scope=col>&lt;dbl&gt;</th><th scope=col>&lt;dbl&gt;</th><th scope=col>&lt;dbl&gt;</th><th scope=col>&lt;dbl&gt;</th><th scope=col>&lt;dbl&gt;</th><th scope=col>&lt;dbl&gt;</th><th scope=col>&lt;int&gt;</th><th scope=col>&lt;fct&gt;</th></tr>\n",
       "</thead>\n",
       "<tbody>\n",
       "\t<tr><td>40</td><td>1</td><td>2</td><td>2</td><td>1</td><td>1</td><td>1</td><td>no</td></tr>\n",
       "\t<tr><td>56</td><td>8</td><td>2</td><td>4</td><td>1</td><td>2</td><td>1</td><td>no</td></tr>\n",
       "\t<tr><td>57</td><td>4</td><td>1</td><td>1</td><td>2</td><td>1</td><td>1</td><td>no</td></tr>\n",
       "\t<tr><td>55</td><td>6</td><td>3</td><td>4</td><td>2</td><td>1</td><td>1</td><td>no</td></tr>\n",
       "\t<tr><td>39</td><td>7</td><td>2</td><td>3</td><td>1</td><td>1</td><td>1</td><td>no</td></tr>\n",
       "\t<tr><td>⋮</td><td>⋮</td><td>⋮</td><td>⋮</td><td>⋮</td><td>⋮</td><td>⋮</td><td>⋮</td></tr>\n",
       "\t<tr><td>32</td><td>1</td><td>2</td><td>7</td><td>1</td><td>1</td><td>1</td><td>yes</td></tr>\n",
       "\t<tr><td>38</td><td>3</td><td>2</td><td>7</td><td>1</td><td>1</td><td>2</td><td>no </td></tr>\n",
       "\t<tr><td>62</td><td>6</td><td>2</td><td>7</td><td>2</td><td>1</td><td>1</td><td>yes</td></tr>\n",
       "\t<tr><td>57</td><td>6</td><td>2</td><td>6</td><td>2</td><td>1</td><td>6</td><td>no </td></tr>\n",
       "\t<tr><td>73</td><td>6</td><td>2</td><td>6</td><td>2</td><td>1</td><td>1</td><td>yes</td></tr>\n",
       "</tbody>\n",
       "</table>\n"
      ],
      "text/latex": [
       "A tibble: 9560 × 8\n",
       "\\begin{tabular}{llllllll}\n",
       " age & job & marital & education & housing & loan & campaign & y\\\\\n",
       " <dbl> & <dbl> & <dbl> & <dbl> & <dbl> & <dbl> & <int> & <fct>\\\\\n",
       "\\hline\n",
       "\t 40 & 1 & 2 & 2 & 1 & 1 & 1 & no\\\\\n",
       "\t 56 & 8 & 2 & 4 & 1 & 2 & 1 & no\\\\\n",
       "\t 57 & 4 & 1 & 1 & 2 & 1 & 1 & no\\\\\n",
       "\t 55 & 6 & 3 & 4 & 2 & 1 & 1 & no\\\\\n",
       "\t 39 & 7 & 2 & 3 & 1 & 1 & 1 & no\\\\\n",
       "\t ⋮ & ⋮ & ⋮ & ⋮ & ⋮ & ⋮ & ⋮ & ⋮\\\\\n",
       "\t 32 & 1 & 2 & 7 & 1 & 1 & 1 & yes\\\\\n",
       "\t 38 & 3 & 2 & 7 & 1 & 1 & 2 & no \\\\\n",
       "\t 62 & 6 & 2 & 7 & 2 & 1 & 1 & yes\\\\\n",
       "\t 57 & 6 & 2 & 6 & 2 & 1 & 6 & no \\\\\n",
       "\t 73 & 6 & 2 & 6 & 2 & 1 & 1 & yes\\\\\n",
       "\\end{tabular}\n"
      ],
      "text/markdown": [
       "\n",
       "A tibble: 9560 × 8\n",
       "\n",
       "| age &lt;dbl&gt; | job &lt;dbl&gt; | marital &lt;dbl&gt; | education &lt;dbl&gt; | housing &lt;dbl&gt; | loan &lt;dbl&gt; | campaign &lt;int&gt; | y &lt;fct&gt; |\n",
       "|---|---|---|---|---|---|---|---|\n",
       "| 40 | 1 | 2 | 2 | 1 | 1 | 1 | no |\n",
       "| 56 | 8 | 2 | 4 | 1 | 2 | 1 | no |\n",
       "| 57 | 4 | 1 | 1 | 2 | 1 | 1 | no |\n",
       "| 55 | 6 | 3 | 4 | 2 | 1 | 1 | no |\n",
       "| 39 | 7 | 2 | 3 | 1 | 1 | 1 | no |\n",
       "| ⋮ | ⋮ | ⋮ | ⋮ | ⋮ | ⋮ | ⋮ | ⋮ |\n",
       "| 32 | 1 | 2 | 7 | 1 | 1 | 1 | yes |\n",
       "| 38 | 3 | 2 | 7 | 1 | 1 | 2 | no  |\n",
       "| 62 | 6 | 2 | 7 | 2 | 1 | 1 | yes |\n",
       "| 57 | 6 | 2 | 6 | 2 | 1 | 6 | no  |\n",
       "| 73 | 6 | 2 | 6 | 2 | 1 | 1 | yes |\n",
       "\n"
      ],
      "text/plain": [
       "     age job marital education housing loan campaign y  \n",
       "1    40  1   2       2         1       1    1        no \n",
       "2    56  8   2       4         1       2    1        no \n",
       "3    57  4   1       1         2       1    1        no \n",
       "4    55  6   3       4         2       1    1        no \n",
       "5    39  7   2       3         1       1    1        no \n",
       "⋮    ⋮   ⋮   ⋮       ⋮         ⋮       ⋮    ⋮        ⋮  \n",
       "9556 32  1   2       7         1       1    1        yes\n",
       "9557 38  3   2       7         1       1    2        no \n",
       "9558 62  6   2       7         2       1    1        yes\n",
       "9559 57  6   2       6         2       1    6        no \n",
       "9560 73  6   2       6         2       1    1        yes"
      ]
     },
     "metadata": {},
     "output_type": "display_data"
    },
    {
     "data": {
      "text/html": [
       "<table>\n",
       "<caption>A tibble: 28685 × 8</caption>\n",
       "<thead>\n",
       "\t<tr><th scope=col>age</th><th scope=col>job</th><th scope=col>marital</th><th scope=col>education</th><th scope=col>housing</th><th scope=col>loan</th><th scope=col>campaign</th><th scope=col>y</th></tr>\n",
       "\t<tr><th scope=col>&lt;dbl&gt;</th><th scope=col>&lt;dbl&gt;</th><th scope=col>&lt;dbl&gt;</th><th scope=col>&lt;dbl&gt;</th><th scope=col>&lt;dbl&gt;</th><th scope=col>&lt;dbl&gt;</th><th scope=col>&lt;int&gt;</th><th scope=col>&lt;fct&gt;</th></tr>\n",
       "</thead>\n",
       "<tbody>\n",
       "\t<tr><td>56</td><td>4</td><td>2</td><td>1</td><td>1</td><td>1</td><td>1</td><td>no</td></tr>\n",
       "\t<tr><td>57</td><td>8</td><td>2</td><td>4</td><td>1</td><td>1</td><td>1</td><td>no</td></tr>\n",
       "\t<tr><td>37</td><td>8</td><td>2</td><td>4</td><td>2</td><td>1</td><td>1</td><td>no</td></tr>\n",
       "\t<tr><td>45</td><td>8</td><td>2</td><td>3</td><td>1</td><td>1</td><td>1</td><td>no</td></tr>\n",
       "\t<tr><td>59</td><td>1</td><td>2</td><td>6</td><td>1</td><td>1</td><td>1</td><td>no</td></tr>\n",
       "\t<tr><td>⋮</td><td>⋮</td><td>⋮</td><td>⋮</td><td>⋮</td><td>⋮</td><td>⋮</td><td>⋮</td></tr>\n",
       "\t<tr><td>29</td><td>11</td><td>3</td><td>1</td><td>2</td><td>1</td><td>1</td><td>no </td></tr>\n",
       "\t<tr><td>46</td><td> 2</td><td>2</td><td>6</td><td>1</td><td>1</td><td>1</td><td>no </td></tr>\n",
       "\t<tr><td>56</td><td> 6</td><td>2</td><td>7</td><td>2</td><td>1</td><td>2</td><td>no </td></tr>\n",
       "\t<tr><td>44</td><td>10</td><td>2</td><td>6</td><td>1</td><td>1</td><td>1</td><td>yes</td></tr>\n",
       "\t<tr><td>74</td><td> 6</td><td>2</td><td>6</td><td>2</td><td>1</td><td>3</td><td>no </td></tr>\n",
       "</tbody>\n",
       "</table>\n"
      ],
      "text/latex": [
       "A tibble: 28685 × 8\n",
       "\\begin{tabular}{llllllll}\n",
       " age & job & marital & education & housing & loan & campaign & y\\\\\n",
       " <dbl> & <dbl> & <dbl> & <dbl> & <dbl> & <dbl> & <int> & <fct>\\\\\n",
       "\\hline\n",
       "\t 56 & 4 & 2 & 1 & 1 & 1 & 1 & no\\\\\n",
       "\t 57 & 8 & 2 & 4 & 1 & 1 & 1 & no\\\\\n",
       "\t 37 & 8 & 2 & 4 & 2 & 1 & 1 & no\\\\\n",
       "\t 45 & 8 & 2 & 3 & 1 & 1 & 1 & no\\\\\n",
       "\t 59 & 1 & 2 & 6 & 1 & 1 & 1 & no\\\\\n",
       "\t ⋮ & ⋮ & ⋮ & ⋮ & ⋮ & ⋮ & ⋮ & ⋮\\\\\n",
       "\t 29 & 11 & 3 & 1 & 2 & 1 & 1 & no \\\\\n",
       "\t 46 &  2 & 2 & 6 & 1 & 1 & 1 & no \\\\\n",
       "\t 56 &  6 & 2 & 7 & 2 & 1 & 2 & no \\\\\n",
       "\t 44 & 10 & 2 & 6 & 1 & 1 & 1 & yes\\\\\n",
       "\t 74 &  6 & 2 & 6 & 2 & 1 & 3 & no \\\\\n",
       "\\end{tabular}\n"
      ],
      "text/markdown": [
       "\n",
       "A tibble: 28685 × 8\n",
       "\n",
       "| age &lt;dbl&gt; | job &lt;dbl&gt; | marital &lt;dbl&gt; | education &lt;dbl&gt; | housing &lt;dbl&gt; | loan &lt;dbl&gt; | campaign &lt;int&gt; | y &lt;fct&gt; |\n",
       "|---|---|---|---|---|---|---|---|\n",
       "| 56 | 4 | 2 | 1 | 1 | 1 | 1 | no |\n",
       "| 57 | 8 | 2 | 4 | 1 | 1 | 1 | no |\n",
       "| 37 | 8 | 2 | 4 | 2 | 1 | 1 | no |\n",
       "| 45 | 8 | 2 | 3 | 1 | 1 | 1 | no |\n",
       "| 59 | 1 | 2 | 6 | 1 | 1 | 1 | no |\n",
       "| ⋮ | ⋮ | ⋮ | ⋮ | ⋮ | ⋮ | ⋮ | ⋮ |\n",
       "| 29 | 11 | 3 | 1 | 2 | 1 | 1 | no  |\n",
       "| 46 |  2 | 2 | 6 | 1 | 1 | 1 | no  |\n",
       "| 56 |  6 | 2 | 7 | 2 | 1 | 2 | no  |\n",
       "| 44 | 10 | 2 | 6 | 1 | 1 | 1 | yes |\n",
       "| 74 |  6 | 2 | 6 | 2 | 1 | 3 | no  |\n",
       "\n"
      ],
      "text/plain": [
       "      age job marital education housing loan campaign y  \n",
       "1     56  4   2       1         1       1    1        no \n",
       "2     57  8   2       4         1       1    1        no \n",
       "3     37  8   2       4         2       1    1        no \n",
       "4     45  8   2       3         1       1    1        no \n",
       "5     59  1   2       6         1       1    1        no \n",
       "⋮     ⋮   ⋮   ⋮       ⋮         ⋮       ⋮    ⋮        ⋮  \n",
       "28681 29  11  3       1         2       1    1        no \n",
       "28682 46   2  2       6         1       1    1        no \n",
       "28683 56   6  2       7         2       1    2        no \n",
       "28684 44  10  2       6         1       1    1        yes\n",
       "28685 74   6  2       6         2       1    3        no "
      ]
     },
     "metadata": {},
     "output_type": "display_data"
    }
   ],
   "source": [
    "# Set the seed\n",
    "set.seed(7134) \n",
    "\n",
    "# Split the dataset into training and testing sets\n",
    "bank_split <- initial_split(bank_data_nums, prop = 0.75, strata = y)  \n",
    "bank_train <- training(bank_split)   \n",
    "bank_test <- testing(bank_split)\n",
    "bank_test\n",
    "bank_train"
   ]
  },
  {
   "cell_type": "code",
   "execution_count": 105,
   "metadata": {},
   "outputs": [
    {
     "data": {
      "text/html": [
       "<table>\n",
       "<caption>A tibble: 28 × 7</caption>\n",
       "<thead>\n",
       "\t<tr><th scope=col>neighbors</th><th scope=col>.metric</th><th scope=col>.estimator</th><th scope=col>mean</th><th scope=col>n</th><th scope=col>std_err</th><th scope=col>.config</th></tr>\n",
       "\t<tr><th scope=col>&lt;int&gt;</th><th scope=col>&lt;chr&gt;</th><th scope=col>&lt;chr&gt;</th><th scope=col>&lt;dbl&gt;</th><th scope=col>&lt;int&gt;</th><th scope=col>&lt;dbl&gt;</th><th scope=col>&lt;chr&gt;</th></tr>\n",
       "</thead>\n",
       "<tbody>\n",
       "\t<tr><td>1</td><td>accuracy</td><td>binary</td><td>0.8291115</td><td>5</td><td>0.013897622</td><td>Model01</td></tr>\n",
       "\t<tr><td>1</td><td>roc_auc </td><td>binary</td><td>0.5231001</td><td>5</td><td>0.024025032</td><td>Model01</td></tr>\n",
       "\t<tr><td>2</td><td>accuracy</td><td>binary</td><td>0.8291015</td><td>5</td><td>0.013191399</td><td>Model02</td></tr>\n",
       "\t<tr><td>2</td><td>roc_auc </td><td>binary</td><td>0.5532386</td><td>5</td><td>0.028316448</td><td>Model02</td></tr>\n",
       "\t<tr><td>3</td><td>accuracy</td><td>binary</td><td>0.8880277</td><td>5</td><td>0.005459024</td><td>Model03</td></tr>\n",
       "\t<tr><td>⋮</td><td>⋮</td><td>⋮</td><td>⋮</td><td>⋮</td><td>⋮</td><td>⋮</td></tr>\n",
       "\t<tr><td>12</td><td>roc_auc </td><td>binary</td><td>0.5280442</td><td>5</td><td>0.026406672</td><td>Model12</td></tr>\n",
       "\t<tr><td>13</td><td>accuracy</td><td>binary</td><td>0.8960179</td><td>5</td><td>0.002733419</td><td>Model13</td></tr>\n",
       "\t<tr><td>13</td><td>roc_auc </td><td>binary</td><td>0.5165229</td><td>5</td><td>0.030670480</td><td>Model13</td></tr>\n",
       "\t<tr><td>14</td><td>accuracy</td><td>binary</td><td>0.8960179</td><td>5</td><td>0.002733419</td><td>Model14</td></tr>\n",
       "\t<tr><td>14</td><td>roc_auc </td><td>binary</td><td>0.5215160</td><td>5</td><td>0.038712036</td><td>Model14</td></tr>\n",
       "</tbody>\n",
       "</table>\n"
      ],
      "text/latex": [
       "A tibble: 28 × 7\n",
       "\\begin{tabular}{lllllll}\n",
       " neighbors & .metric & .estimator & mean & n & std\\_err & .config\\\\\n",
       " <int> & <chr> & <chr> & <dbl> & <int> & <dbl> & <chr>\\\\\n",
       "\\hline\n",
       "\t 1 & accuracy & binary & 0.8291115 & 5 & 0.013897622 & Model01\\\\\n",
       "\t 1 & roc\\_auc  & binary & 0.5231001 & 5 & 0.024025032 & Model01\\\\\n",
       "\t 2 & accuracy & binary & 0.8291015 & 5 & 0.013191399 & Model02\\\\\n",
       "\t 2 & roc\\_auc  & binary & 0.5532386 & 5 & 0.028316448 & Model02\\\\\n",
       "\t 3 & accuracy & binary & 0.8880277 & 5 & 0.005459024 & Model03\\\\\n",
       "\t ⋮ & ⋮ & ⋮ & ⋮ & ⋮ & ⋮ & ⋮\\\\\n",
       "\t 12 & roc\\_auc  & binary & 0.5280442 & 5 & 0.026406672 & Model12\\\\\n",
       "\t 13 & accuracy & binary & 0.8960179 & 5 & 0.002733419 & Model13\\\\\n",
       "\t 13 & roc\\_auc  & binary & 0.5165229 & 5 & 0.030670480 & Model13\\\\\n",
       "\t 14 & accuracy & binary & 0.8960179 & 5 & 0.002733419 & Model14\\\\\n",
       "\t 14 & roc\\_auc  & binary & 0.5215160 & 5 & 0.038712036 & Model14\\\\\n",
       "\\end{tabular}\n"
      ],
      "text/markdown": [
       "\n",
       "A tibble: 28 × 7\n",
       "\n",
       "| neighbors &lt;int&gt; | .metric &lt;chr&gt; | .estimator &lt;chr&gt; | mean &lt;dbl&gt; | n &lt;int&gt; | std_err &lt;dbl&gt; | .config &lt;chr&gt; |\n",
       "|---|---|---|---|---|---|---|\n",
       "| 1 | accuracy | binary | 0.8291115 | 5 | 0.013897622 | Model01 |\n",
       "| 1 | roc_auc  | binary | 0.5231001 | 5 | 0.024025032 | Model01 |\n",
       "| 2 | accuracy | binary | 0.8291015 | 5 | 0.013191399 | Model02 |\n",
       "| 2 | roc_auc  | binary | 0.5532386 | 5 | 0.028316448 | Model02 |\n",
       "| 3 | accuracy | binary | 0.8880277 | 5 | 0.005459024 | Model03 |\n",
       "| ⋮ | ⋮ | ⋮ | ⋮ | ⋮ | ⋮ | ⋮ |\n",
       "| 12 | roc_auc  | binary | 0.5280442 | 5 | 0.026406672 | Model12 |\n",
       "| 13 | accuracy | binary | 0.8960179 | 5 | 0.002733419 | Model13 |\n",
       "| 13 | roc_auc  | binary | 0.5165229 | 5 | 0.030670480 | Model13 |\n",
       "| 14 | accuracy | binary | 0.8960179 | 5 | 0.002733419 | Model14 |\n",
       "| 14 | roc_auc  | binary | 0.5215160 | 5 | 0.038712036 | Model14 |\n",
       "\n"
      ],
      "text/plain": [
       "   neighbors .metric  .estimator mean      n std_err     .config\n",
       "1  1         accuracy binary     0.8291115 5 0.013897622 Model01\n",
       "2  1         roc_auc  binary     0.5231001 5 0.024025032 Model01\n",
       "3  2         accuracy binary     0.8291015 5 0.013191399 Model02\n",
       "4  2         roc_auc  binary     0.5532386 5 0.028316448 Model02\n",
       "5  3         accuracy binary     0.8880277 5 0.005459024 Model03\n",
       "⋮  ⋮         ⋮        ⋮          ⋮         ⋮ ⋮           ⋮      \n",
       "24 12        roc_auc  binary     0.5280442 5 0.026406672 Model12\n",
       "25 13        accuracy binary     0.8960179 5 0.002733419 Model13\n",
       "26 13        roc_auc  binary     0.5165229 5 0.030670480 Model13\n",
       "27 14        accuracy binary     0.8960179 5 0.002733419 Model14\n",
       "28 14        roc_auc  binary     0.5215160 5 0.038712036 Model14"
      ]
     },
     "metadata": {},
     "output_type": "display_data"
    }
   ],
   "source": [
    "# Perform cross validation to determine the ideal # of neighbours\n",
    "\n",
    "# Set the seed\n",
    "set.seed(7134) \n",
    "\n",
    "# No need to use the entire dataset for this, \n",
    "# especially since cross validation would take too long on a datset so large\n",
    "bank_sample <- rep_sample_n(bank_train, 1000)\n",
    "\n",
    "bank_k_recipe <- recipe(y ~ age+job+education+housing+loan+marital+campaign, data = bank_sample) %>%\n",
    "    step_scale(all_predictors()) %>%\n",
    "    step_center(all_predictors())\n",
    "\n",
    "bank_vfold <- vfold_cv(bank_sample, v = 5, strata = y)\n",
    "\n",
    "knn_spec <- nearest_neighbor(weight_func = \"rectangular\", neighbors = tune()) %>%\n",
    "       set_engine(\"kknn\") %>%\n",
    "       set_mode(\"classification\")\n",
    "\n",
    "bank_knn_results <- workflow() %>%\n",
    "       add_recipe(bank_recipe) %>%\n",
    "       add_model(knn_spec) %>%\n",
    "       tune_grid(resamples = bank_vfold, grid = 20) %>%\n",
    "       collect_metrics()\n",
    "bank_knn_results"
   ]
  },
  {
   "cell_type": "code",
   "execution_count": 106,
   "metadata": {},
   "outputs": [
    {
     "data": {
      "image/png": "[encoded data removed]",
      "text/plain": [
       "plot without title"
      ]
     },
     "metadata": {
      "image/png": {
       "height": 600,
       "width": 600
      }
     },
     "output_type": "display_data"
    }
   ],
   "source": [
    "# Plot the accuracies of each k determined by cross validation\n",
    "# to find the ideal value of k\n",
    "options(repr.plot.width=10, repr.plot.height=10)\n",
    "\n",
    "accuracies <- bank_knn_results %>% \n",
    "       filter(.metric == \"accuracy\")\n",
    "\n",
    "accuracy_versus_k <- ggplot(accuracies, aes(x = neighbors, y = mean))+\n",
    "       geom_point() +\n",
    "       geom_line() +\n",
    "       labs(x = \"Neighbors\", y = \"Accuracy Estimate\") +\n",
    "       ggtitle(\"Accuracy Estimates for Number of Neighbours\") +\n",
    "       theme(text = element_text(size = 20)) +\n",
    "       scale_x_continuous(breaks = seq(0, 14, by = 1)) +  # adjusting the x-axis\n",
    "       scale_y_continuous(limits = c(0.4, 1.0)) # adjusting the y-axis\n",
    "\n",
    "\n",
    "# your code here\n",
    "accuracy_versus_k"
   ]
  },
  {
   "cell_type": "markdown",
   "metadata": {},
   "source": [
    "From the above plot, we can see that although having 9-14 neighbours would technically be the most accurate, the accuracy of any k greater than 2 is practically the same, therefore we will choose k = 3, since any k lower would be noticeably less accurate, and any k greater would be just as accurate, but require more computation time."
   ]
  },
  {
   "cell_type": "code",
   "execution_count": 107,
   "metadata": {},
   "outputs": [],
   "source": [
    "bank_recipe <- recipe(y ~ age+job+education+housing+loan+marital+campaign, data = bank_train) %>%\n",
    "    step_scale(all_predictors()) %>%\n",
    "    step_center(all_predictors())\n",
    "\n",
    "bank_spec <- nearest_neighbor(weight_func = \"rectangular\", neighbors = 3) %>%\n",
    "       set_engine(\"kknn\") %>%\n",
    "       set_mode(\"classification\")\n",
    "\n",
    "bank_fit <- workflow() %>%\n",
    "        add_recipe(bank_recipe) %>%\n",
    "        add_model(bank_spec) %>%\n",
    "        fit(data = bank_train)"
   ]
  },
  {
   "cell_type": "code",
   "execution_count": 92,
   "metadata": {},
   "outputs": [
    {
     "data": {
      "text/html": [
       "<table>\n",
       "<caption>A tibble: 9560 × 9</caption>\n",
       "<thead>\n",
       "\t<tr><th scope=col>.pred_class</th><th scope=col>age</th><th scope=col>job</th><th scope=col>marital</th><th scope=col>education</th><th scope=col>housing</th><th scope=col>loan</th><th scope=col>campaign</th><th scope=col>y</th></tr>\n",
       "\t<tr><th scope=col>&lt;fct&gt;</th><th scope=col>&lt;dbl&gt;</th><th scope=col>&lt;dbl&gt;</th><th scope=col>&lt;dbl&gt;</th><th scope=col>&lt;dbl&gt;</th><th scope=col>&lt;dbl&gt;</th><th scope=col>&lt;dbl&gt;</th><th scope=col>&lt;int&gt;</th><th scope=col>&lt;fct&gt;</th></tr>\n",
       "</thead>\n",
       "<tbody>\n",
       "\t<tr><td>no</td><td>40</td><td>1</td><td>2</td><td>2</td><td>1</td><td>1</td><td>1</td><td>no</td></tr>\n",
       "\t<tr><td>no</td><td>56</td><td>8</td><td>2</td><td>4</td><td>1</td><td>2</td><td>1</td><td>no</td></tr>\n",
       "\t<tr><td>no</td><td>57</td><td>4</td><td>1</td><td>1</td><td>2</td><td>1</td><td>1</td><td>no</td></tr>\n",
       "\t<tr><td>no</td><td>55</td><td>6</td><td>3</td><td>4</td><td>2</td><td>1</td><td>1</td><td>no</td></tr>\n",
       "\t<tr><td>no</td><td>39</td><td>7</td><td>2</td><td>3</td><td>1</td><td>1</td><td>1</td><td>no</td></tr>\n",
       "\t<tr><td>⋮</td><td>⋮</td><td>⋮</td><td>⋮</td><td>⋮</td><td>⋮</td><td>⋮</td><td>⋮</td><td>⋮</td></tr>\n",
       "\t<tr><td>no</td><td>32</td><td>1</td><td>2</td><td>7</td><td>1</td><td>1</td><td>1</td><td>yes</td></tr>\n",
       "\t<tr><td>no</td><td>38</td><td>3</td><td>2</td><td>7</td><td>1</td><td>1</td><td>2</td><td>no </td></tr>\n",
       "\t<tr><td>no</td><td>62</td><td>6</td><td>2</td><td>7</td><td>2</td><td>1</td><td>1</td><td>yes</td></tr>\n",
       "\t<tr><td>no</td><td>57</td><td>6</td><td>2</td><td>6</td><td>2</td><td>1</td><td>6</td><td>no </td></tr>\n",
       "\t<tr><td>no</td><td>73</td><td>6</td><td>2</td><td>6</td><td>2</td><td>1</td><td>1</td><td>yes</td></tr>\n",
       "</tbody>\n",
       "</table>\n"
      ],
      "text/latex": [
       "A tibble: 9560 × 9\n",
       "\\begin{tabular}{lllllllll}\n",
       " .pred\\_class & age & job & marital & education & housing & loan & campaign & y\\\\\n",
       " <fct> & <dbl> & <dbl> & <dbl> & <dbl> & <dbl> & <dbl> & <int> & <fct>\\\\\n",
       "\\hline\n",
       "\t no & 40 & 1 & 2 & 2 & 1 & 1 & 1 & no\\\\\n",
       "\t no & 56 & 8 & 2 & 4 & 1 & 2 & 1 & no\\\\\n",
       "\t no & 57 & 4 & 1 & 1 & 2 & 1 & 1 & no\\\\\n",
       "\t no & 55 & 6 & 3 & 4 & 2 & 1 & 1 & no\\\\\n",
       "\t no & 39 & 7 & 2 & 3 & 1 & 1 & 1 & no\\\\\n",
       "\t ⋮ & ⋮ & ⋮ & ⋮ & ⋮ & ⋮ & ⋮ & ⋮ & ⋮\\\\\n",
       "\t no & 32 & 1 & 2 & 7 & 1 & 1 & 1 & yes\\\\\n",
       "\t no & 38 & 3 & 2 & 7 & 1 & 1 & 2 & no \\\\\n",
       "\t no & 62 & 6 & 2 & 7 & 2 & 1 & 1 & yes\\\\\n",
       "\t no & 57 & 6 & 2 & 6 & 2 & 1 & 6 & no \\\\\n",
       "\t no & 73 & 6 & 2 & 6 & 2 & 1 & 1 & yes\\\\\n",
       "\\end{tabular}\n"
      ],
      "text/markdown": [
       "\n",
       "A tibble: 9560 × 9\n",
       "\n",
       "| .pred_class &lt;fct&gt; | age &lt;dbl&gt; | job &lt;dbl&gt; | marital &lt;dbl&gt; | education &lt;dbl&gt; | housing &lt;dbl&gt; | loan &lt;dbl&gt; | campaign &lt;int&gt; | y &lt;fct&gt; |\n",
       "|---|---|---|---|---|---|---|---|---|\n",
       "| no | 40 | 1 | 2 | 2 | 1 | 1 | 1 | no |\n",
       "| no | 56 | 8 | 2 | 4 | 1 | 2 | 1 | no |\n",
       "| no | 57 | 4 | 1 | 1 | 2 | 1 | 1 | no |\n",
       "| no | 55 | 6 | 3 | 4 | 2 | 1 | 1 | no |\n",
       "| no | 39 | 7 | 2 | 3 | 1 | 1 | 1 | no |\n",
       "| ⋮ | ⋮ | ⋮ | ⋮ | ⋮ | ⋮ | ⋮ | ⋮ | ⋮ |\n",
       "| no | 32 | 1 | 2 | 7 | 1 | 1 | 1 | yes |\n",
       "| no | 38 | 3 | 2 | 7 | 1 | 1 | 2 | no  |\n",
       "| no | 62 | 6 | 2 | 7 | 2 | 1 | 1 | yes |\n",
       "| no | 57 | 6 | 2 | 6 | 2 | 1 | 6 | no  |\n",
       "| no | 73 | 6 | 2 | 6 | 2 | 1 | 1 | yes |\n",
       "\n"
      ],
      "text/plain": [
       "     .pred_class age job marital education housing loan campaign y  \n",
       "1    no          40  1   2       2         1       1    1        no \n",
       "2    no          56  8   2       4         1       2    1        no \n",
       "3    no          57  4   1       1         2       1    1        no \n",
       "4    no          55  6   3       4         2       1    1        no \n",
       "5    no          39  7   2       3         1       1    1        no \n",
       "⋮    ⋮           ⋮   ⋮   ⋮       ⋮         ⋮       ⋮    ⋮        ⋮  \n",
       "9556 no          32  1   2       7         1       1    1        yes\n",
       "9557 no          38  3   2       7         1       1    2        no \n",
       "9558 no          62  6   2       7         2       1    1        yes\n",
       "9559 no          57  6   2       6         2       1    6        no \n",
       "9560 no          73  6   2       6         2       1    1        yes"
      ]
     },
     "metadata": {},
     "output_type": "display_data"
    },
    {
     "data": {
      "text/html": [
       "<table>\n",
       "<caption>A tibble: 2 × 3</caption>\n",
       "<thead>\n",
       "\t<tr><th scope=col>.metric</th><th scope=col>.estimator</th><th scope=col>.estimate</th></tr>\n",
       "\t<tr><th scope=col>&lt;chr&gt;</th><th scope=col>&lt;chr&gt;</th><th scope=col>&lt;dbl&gt;</th></tr>\n",
       "</thead>\n",
       "<tbody>\n",
       "\t<tr><td>accuracy</td><td>binary</td><td>0.88556485</td></tr>\n",
       "\t<tr><td>kap     </td><td>binary</td><td>0.05848182</td></tr>\n",
       "</tbody>\n",
       "</table>\n"
      ],
      "text/latex": [
       "A tibble: 2 × 3\n",
       "\\begin{tabular}{lll}\n",
       " .metric & .estimator & .estimate\\\\\n",
       " <chr> & <chr> & <dbl>\\\\\n",
       "\\hline\n",
       "\t accuracy & binary & 0.88556485\\\\\n",
       "\t kap      & binary & 0.05848182\\\\\n",
       "\\end{tabular}\n"
      ],
      "text/markdown": [
       "\n",
       "A tibble: 2 × 3\n",
       "\n",
       "| .metric &lt;chr&gt; | .estimator &lt;chr&gt; | .estimate &lt;dbl&gt; |\n",
       "|---|---|---|\n",
       "| accuracy | binary | 0.88556485 |\n",
       "| kap      | binary | 0.05848182 |\n",
       "\n"
      ],
      "text/plain": [
       "  .metric  .estimator .estimate \n",
       "1 accuracy binary     0.88556485\n",
       "2 kap      binary     0.05848182"
      ]
     },
     "metadata": {},
     "output_type": "display_data"
    },
    {
     "data": {
      "text/plain": [
       "          Truth\n",
       "Prediction   no  yes\n",
       "       no  8418 1016\n",
       "       yes   78   48"
      ]
     },
     "metadata": {},
     "output_type": "display_data"
    }
   ],
   "source": [
    "bank_predictions <- predict(bank_fit , bank_test) %>%\n",
    "       bind_cols(bank_test)\n",
    "bank_predictions\n",
    "\n",
    "bank_metrics <- bank_predictions %>%\n",
    "         metrics(truth = y, estimate = .pred_class)\n",
    "bank_metrics\n",
    "\n",
    "bank_conf_mat <- bank_predictions %>% \n",
    "       conf_mat(truth = y, estimate = .pred_class)\n",
    "bank_conf_mat"
   ]
  }
 ],
 "metadata": {
  "kernelspec": {
   "display_name": "R",
   "language": "R",
   "name": "ir"
  },
  "language_info": {
   "codemirror_mode": "r",
   "file_extension": ".r",
   "mimetype": "text/x-r-source",
   "name": "R",
   "pygments_lexer": "r",
   "version": "4.0.0"
  }
 },
 "nbformat": 4,
 "nbformat_minor": 4
}
