{
 "cells": [
  {
   "cell_type": "markdown",
   "metadata": {},
   "source": [
    "Final Project Notebook"
   ]
  },
  {
   "cell_type": "raw",
   "metadata": {},
   "source": [
    "Comments from TA: (Important)\n",
    "Great introduction, however it would have been a good idea to provide more background information. Also, it is a good idea to include the number of observations in the intro.  - Why have you decided to use 75% of the dataset as the training data?  - As part of your summary statistics, it is a good idea to look at the number of observations in each class of your target variable. Then, you can see whether you will have to deal with class imbalance or not. If there is class imbalance in your data, then you should be thinking about how to address this issue (e.g. upsampling, downsampling, etc.).  - In your methods, you have mentioned that: \"We selected 10 variables of the data set as they will provide the most evidence for a classification relationship that can be used to predict if the client will subscribe.\" How can we be sure that these 10 variables provide the most evidence?  - Since you have decided to include 10 predictors, for the visualizations you could use the ggpairs() function to make a matrix of plots.  - More detail is needed to explain the methods of how you will carryout your classification analysis. What kind of classification algorithm are you planning to use? We used KNN. How are you planning to tune your data (e.g. cross validation)?  - Keep in mind that the \"Expected outcomes and significance\" section should relate to a predictive question. So, you should not be expecting \"to find how different variables affect the probability of customers subscribing to a term deposit.\""
   ]
  },
  {
   "cell_type": "code",
   "execution_count": null,
   "metadata": {},
   "outputs": [],
   "source": [
    "# SETUP CODE\n",
    "library(repr)\n",
    "library(tidyverse)\n",
    "library(tidymodels)\n",
    "options(repr.matrix.max.rows = 10)"
   ]
  },
  {
   "cell_type": "markdown",
   "metadata": {},
   "source": [
    "<h2>Introduction</h2>\n",
    "\n",
    "Bank managers have been asking the same question for a long time. What sort of clients will subscribe to a term deposit? To solve this question, we have downloaded the “bank-additional-full.csv” spreadsheet from the Portuguese banking institution to anlysis the results and conduct a research. By using the KNN classification method, we aim to predict if the client will subscribe to a term deposit or not. \n",
    "\n",
    "\"Bank-additional-full.csv” is a document representing the marketing efforts of the Portuguese banking institution. 21 variables are measured, with the classification variable being whether or not a client will subscribe to a term deposit. A term deposit is a fixed-term investment that contains the deposit of funds into an account at a financial institution, and receiving a certain amount of interest at maturity date. This data was originally produced by researchers at the University Institute of Lisbon for a report highlighting a data-driven approach to predict the successfulness of bank telemarketing.\n",
    "\n",
    "This dataset features 20 attributes regarding demographics (age, job, marital status), economic and educational situation (level of education, possession of a housing loan), and historical information’s relationship to the banking institution (last month of contact, outcome from previous marketing campaign). In order to make this prediction more effective and accurate, we have selected the 7 most important predictors to conduct KNN classification analysis, and each of the target variables contain 41188 observations, which makes the whole prediction more trustworthy and accurate. We will separate 75% of the data into training set and 25% of the remaining into the testing set in order to find out the most suitable k-neighbour in our function. After identifiying the correct \"k\" for the function, we will use \"ggpairs\" to create a visual comparasion to demonstrates the correlation  of each variables measured, \n"
   ]
  },
  {
   "cell_type": "code",
   "execution_count": null,
   "metadata": {},
   "outputs": [],
   "source": [
    "# Retrieving and preparing the dataset for classification\n",
    "\n",
    "# Set the seed\n",
    "set.seed(7134) \n",
    "\n",
    "# Read the dataset and discard the unnecessary columns\n",
    "temp <- tempfile()\n",
    "download.file(\"https://archive.ics.uci.edu/ml/machine-learning-databases/00222/bank-additional.zip\",temp)\n",
    "bank_data <- read.table(unz(temp, \"bank-additional/bank-additional-full.csv\"), sep=\";\", header=TRUE) %>%\n",
    "    select(age, job, marital, education, housing, loan, campaign, y)\n",
    "unlink(temp)\n",
    "bank_data <- as_tibble(bank_data)\n",
    "bank_data\n",
    "nrow(bank_data)"
   ]
  },
  {
   "cell_type": "code",
   "execution_count": null,
   "metadata": {},
   "outputs": [],
   "source": [
    "# Set the seed\n",
    "set.seed(7134) \n",
    "\n",
    "# Filter out rows with unknown data\n",
    "bank_data_filtered <- bank_data %>%\n",
    "    filter(job != \"unknown\",\n",
    "           marital != \"unknown\",\n",
    "           education != \"unknown\",\n",
    "           housing != \"unknown\",\n",
    "           loan != \"unknown\")\n",
    "             \n",
    "# Convert all string columns to integers (needed for classification)\n",
    "bank_data_nums <- bank_data_filtered %>%\n",
    "    mutate(\n",
    "        age = as.double(age),\n",
    "        job = as.double(unclass(factor(job))), \n",
    "        marital = as.double(unclass(factor(marital))), \n",
    "        education = as.double(unclass(factor(education))), \n",
    "        housing = as.double(unclass(factor(housing))),\n",
    "        loan = as.double(unclass(factor(loan))),\n",
    "        y = factor(y)\n",
    "    )\n",
    "bank_data_nums"
   ]
  },
  {
   "cell_type": "code",
   "execution_count": null,
   "metadata": {},
   "outputs": [],
   "source": [
    "# Set the seed\n",
    "set.seed(7134) \n",
    "\n",
    "# Split the dataset into training and testing sets\n",
    "bank_split <- initial_split(bank_data_nums, prop = 0.75, strata = y)  \n",
    "bank_train <- training(bank_split)   \n",
    "bank_test <- testing(bank_split)\n",
    "bank_test\n",
    "bank_train"
   ]
  },
  {
   "cell_type": "code",
   "execution_count": null,
   "metadata": {},
   "outputs": [],
   "source": [
    "# Perform cross validation to determine the ideal # of neighbours\n",
    "\n",
    "# Set the seed\n",
    "set.seed(7134) \n",
    "\n",
    "# No need to use the entire dataset for this, \n",
    "# especially since cross validation would take too long on a datset so large\n",
    "bank_sample <- rep_sample_n(bank_train, 1000)\n",
    "\n",
    "bank_k_recipe <- recipe(y ~ age+job+education+housing+loan+marital+campaign, data = bank_sample) %>%\n",
    "    step_scale(all_predictors()) %>%\n",
    "    step_center(all_predictors())\n",
    "\n",
    "bank_vfold <- vfold_cv(bank_sample, v = 5, strata = y)\n",
    "\n",
    "knn_spec <- nearest_neighbor(weight_func = \"rectangular\", neighbors = tune()) %>%\n",
    "       set_engine(\"kknn\") %>%\n",
    "       set_mode(\"classification\")\n",
    "knn_spec"
   ]
  },
  {
   "cell_type": "code",
   "execution_count": null,
   "metadata": {},
   "outputs": [],
   "source": [
    "# Set the seed\n",
    "set.seed(7134) \n",
    "bank_knn_results <- workflow() %>%\n",
    "       add_recipe(bank_k_recipe) %>%\n",
    "       add_model(knn_spec) %>%\n",
    "       tune_grid(resamples = bank_vfold, grid = 20) %>%\n",
    "       collect_metrics()\n",
    "bank_knn_results"
   ]
  },
  {
   "cell_type": "code",
   "execution_count": null,
   "metadata": {},
   "outputs": [],
   "source": [
    "# Plot the accuracies of each k determined by cross validation\n",
    "# to find the ideal value of k\n",
    "options(repr.plot.width=10, repr.plot.height=10)\n",
    "\n",
    "accuracies <- bank_knn_results %>% \n",
    "       filter(.metric == \"accuracy\")\n",
    "\n",
    "accuracy_versus_k <- ggplot(accuracies, aes(x = neighbors, y = mean))+\n",
    "       geom_point() +\n",
    "       geom_line() +\n",
    "       labs(x = \"Neighbors\", y = \"Accuracy Estimate\") +\n",
    "       ggtitle(\"Accuracy Estimates for Number of Neighbours\") +\n",
    "       theme(text = element_text(size = 20)) +\n",
    "       scale_x_continuous(breaks = seq(0, 14, by = 1)) +  # adjusting the x-axis\n",
    "       scale_y_continuous(limits = c(0.4, 1.0)) # adjusting the y-axis\n",
    "\n",
    "accuracy_versus_k"
   ]
  },
  {
   "cell_type": "code",
   "execution_count": null,
   "metadata": {},
   "outputs": [],
   "source": [
    "# Comments from the TA\n",
    "# How can we make sure the data does not include any missing values? Make sure to include a code checking for missing data. "
   ]
  },
  {
   "cell_type": "markdown",
   "metadata": {},
   "source": [
    "From the above plot, we can see that although having 9-14 neighbours would technically be the most accurate, the accuracy of any k greater than 2 is practically the same, therefore we will choose k = 3, since any k lower would be noticeably less accurate, and any k greater would be just as accurate, but require more computation time."
   ]
  },
  {
   "cell_type": "code",
   "execution_count": null,
   "metadata": {},
   "outputs": [],
   "source": [
    "bank_recipe <- recipe(y ~ age+job+education+housing+loan+marital+campaign, data = bank_train) %>%\n",
    "    step_scale(all_predictors()) %>%\n",
    "    step_center(all_predictors())\n",
    "bank_recipe\n",
    "\n",
    "bank_spec <- nearest_neighbor(weight_func = \"rectangular\", neighbors = 3) %>%\n",
    "       set_engine(\"kknn\") %>%\n",
    "       set_mode(\"classification\")\n",
    "\n",
    "bank_spec\n",
    "\n",
    "bank_fit <- workflow() %>%\n",
    "        add_recipe(bank_recipe) %>%\n",
    "        add_model(bank_spec) %>%\n",
    "        fit(data = bank_train)\n",
    "bank_fit"
   ]
  },
  {
   "cell_type": "code",
   "execution_count": null,
   "metadata": {},
   "outputs": [],
   "source": [
    "bank_predictions <- predict(bank_fit , bank_test) %>%\n",
    "       bind_cols(bank_test)\n",
    "bank_predictions\n",
    "\n",
    "bank_metrics <- bank_predictions %>%\n",
    "         metrics(truth = y, estimate = .pred_class)\n",
    "bank_metrics\n",
    "\n",
    "bank_conf_mat <- bank_predictions %>% \n",
    "       conf_mat(truth = y, estimate = .pred_class)\n",
    "bank_conf_mat"
   ]
  },
  {
   "cell_type": "code",
   "execution_count": null,
   "metadata": {},
   "outputs": [],
   "source": [
    "library(GGally)\n",
    "plot_pairs <- bank_data_nums %>%\n",
    "  select(age, job, marital, education, housing, loan, campaign, y,)%>%\n",
    "  ggpairs\n",
    "plot_pairs"
   ]
  },
  {
   "cell_type": "code",
   "execution_count": null,
   "metadata": {},
   "outputs": [],
   "source": []
  }
 ],
 "metadata": {
  "kernelspec": {
   "display_name": "R",
   "language": "R",
   "name": "ir"
  },
  "language_info": {
   "codemirror_mode": "r",
   "file_extension": ".r",
   "mimetype": "text/x-r-source",
   "name": "R",
   "pygments_lexer": "r",
   "version": "4.0.0"
  }
 },
 "nbformat": 4,
 "nbformat_minor": 4
}
