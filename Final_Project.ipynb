{
 "cells": [
  {
   "cell_type": "markdown",
   "metadata": {},
   "source": [
    "Final Project Notebook"
   ]
  },
  {
   "cell_type": "code",
   "execution_count": 2,
   "metadata": {},
   "outputs": [
    {
     "ename": "ERROR",
     "evalue": "Error in read_delim(\"data/bank-additional-full.csv\", delim = \";\") %>% : could not find function \"%>%\"\n",
     "output_type": "error",
     "traceback": [
      "Error in read_delim(\"data/bank-additional-full.csv\", delim = \";\") %>% : could not find function \"%>%\"\nTraceback:\n"
     ]
    }
   ],
   "source": [
    "# Read the dataset and discard the unnecessary columns\n",
    "bank_data <- read_delim(\"data/bank-additional-full.csv\", delim=\";\") %>%\n",
    "             select(age:day_of_week & !contact, campaign, y)\n",
    "\n",
    "# Set the seed\n",
    "set.seed(7134) \n",
    "\n",
    "# Randomly take 75% of the data in the training set. \n",
    "bank_split <- initial_split(bank_data, prop = 0.75, strata = y)  \n",
    "bank_train <- training(bank_split)\n",
    "bank_train\n",
    "\n",
    "# Get mean, min, and max of age\n",
    "age_summary <- bank_train %>%\n",
    "               summarize(\n",
    "                   min_age = min(age),\n",
    "                   max_age = max(age),\n",
    "                   mean_age = mean(age))\n",
    "age_summary\n",
    "\n",
    "# Get the mean, min, and max of age grouped by y\n",
    "# Observe that splitting on y barely changes the min/max/mean,\n",
    "# suggesting that age does not have a large affect on y\n",
    "age_y_summary <- bank_train %>%\n",
    "                 group_by(y) %>%\n",
    "                 summarize(\n",
    "                   min_age = min(age),\n",
    "                   max_age = max(age),\n",
    "                   mean_age = mean(age))\n",
    "age_y_summary\n",
    "\n",
    "# Get total number of people with each job grouped by y\n",
    "job_groups <- bank_train %>%\n",
    "              group_by(job, y) %>%\n",
    "              summarize(n = n())\n",
    "job_groups\n",
    "\n",
    "# Plot job_groups\n",
    "# We can see that students, retired, and admin have the highest proportion\n",
    "# of people subscribing to a term deposit compared to not subscribing.\n",
    "options(repr.plot.width = 20, repr.plot.height = 10) \n",
    "job_groups_plot1 <- ggplot(job_groups, aes(x = job, y = n, fill = y)) + \n",
    "    geom_bar(stat = \"identity\", position = \"dodge\") + \n",
    "   xlab(\"Job\") +\n",
    "   ylab(\"Number of People\") +\n",
    "   labs(fill = \"Subscribed to Term Deposit\") +\n",
    "    theme(text = element_text(size = 20)) +\n",
    "    ggtitle(\"Term Deposit Acceptance by Job\")\n",
    "job_groups_plot1\n",
    "\n",
    "job_groups_plot2 <- ggplot(job_groups, aes(x = job, y = n, fill = y)) + \n",
    "    geom_bar(stat = \"identity\", position = \"fill\") + \n",
    "    xlab(\"Job\") +\n",
    "    ylab(\"Number of People\") +\n",
    "    labs(fill = \"Subscribed to Term Deposit\") +\n",
    "    theme(text = element_text(size = 20)) +\n",
    "    ggtitle(\"Term Deposit Acceptance by Job\")\n",
    "job_groups_plot2\n",
    "\n",
    "# Get the total number of people grouped by number of times contacted,\n",
    "# and whether or not they subscribed to a term deposit\n",
    "num_contacts <- bank_train %>%\n",
    "                     group_by(campaign, y) %>%\n",
    "                     summarize(n = n())\n",
    "num_contacts\n",
    "\n",
    "# Plot num_contacts, filter to only include rows with < 10 contacts,\n",
    "# since from the table above we can observe that n becomes negligible \n",
    "# above 10 contacts.\n",
    "# We can see that as the number of contacts increases the\n",
    "# proportion of people who accepted a term deposit decreases\n",
    "num_contacts_plot <- num_contacts %>%\n",
    "    filter(campaign < 10) %>%\n",
    "    ggplot(aes(x = campaign, y = n, fill = y)) + \n",
    "    geom_bar(stat = \"identity\", position = \"fill\") + \n",
    "    xlab(\"Number of Contacts\") +\n",
    "    ylab(\"Number of People\") +\n",
    "    labs(fill = \"Subscribed to Term Deposit\") +\n",
    "    theme(text = element_text(size = 20)) +\n",
    "    ggtitle(\"Term Deposit Acceptance by Number of Contacts\")\n",
    "num_contacts_plot"
   ]
  },
  {
   "cell_type": "code",
   "execution_count": null,
   "metadata": {},
   "outputs": [],
   "source": []
  }
 ],
 "metadata": {
  "kernelspec": {
   "display_name": "R",
   "language": "R",
   "name": "ir"
  },
  "language_info": {
   "codemirror_mode": "r",
   "file_extension": ".r",
   "mimetype": "text/x-r-source",
   "name": "R",
   "pygments_lexer": "r",
   "version": "4.0.0"
  }
 },
 "nbformat": 4,
 "nbformat_minor": 4
}
